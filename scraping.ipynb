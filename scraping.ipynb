{
  "cells": [
    {
      "cell_type": "code",
      "execution_count": 21,
      "metadata": {
        "id": "GVpEBFoJtfxB"
      },
      "outputs": [],
      "source": [
        "from google_play_scraper import reviews_all, Sort\n",
        "import csv\n",
        "import pandas as pd"
      ]
    },
    {
      "cell_type": "code",
      "execution_count": 22,
      "metadata": {
        "id": "ExDn_k6UtfxG",
        "colab": {
          "base_uri": "https://localhost:8080/"
        },
        "outputId": "d85c72f4-8a9c-46f6-9324-17534af7f167"
      },
      "outputs": [
        {
          "output_type": "stream",
          "name": "stdout",
          "text": [
            "Terkumpul: 200 review\n",
            "Terkumpul: 400 review\n",
            "Terkumpul: 600 review\n",
            "Terkumpul: 800 review\n",
            "Terkumpul: 1000 review\n",
            "Terkumpul: 1200 review\n",
            "Terkumpul: 1400 review\n",
            "Terkumpul: 1600 review\n",
            "Terkumpul: 1800 review\n",
            "Terkumpul: 2000 review\n",
            "Terkumpul: 2200 review\n",
            "Terkumpul: 2400 review\n",
            "Terkumpul: 2600 review\n",
            "Terkumpul: 2800 review\n",
            "Terkumpul: 3000 review\n",
            "Terkumpul: 3200 review\n",
            "Terkumpul: 3400 review\n",
            "Terkumpul: 3600 review\n",
            "Terkumpul: 3800 review\n",
            "Terkumpul: 4000 review\n",
            "Terkumpul: 4200 review\n",
            "Terkumpul: 4400 review\n",
            "Terkumpul: 4600 review\n",
            "Terkumpul: 4800 review\n",
            "Terkumpul: 5000 review\n",
            "Terkumpul: 5200 review\n",
            "Terkumpul: 5400 review\n",
            "Terkumpul: 5600 review\n",
            "Terkumpul: 5800 review\n",
            "Terkumpul: 6000 review\n",
            "Terkumpul: 6200 review\n",
            "Terkumpul: 6400 review\n",
            "Terkumpul: 6600 review\n",
            "Terkumpul: 6800 review\n",
            "Terkumpul: 7000 review\n",
            "Terkumpul: 7200 review\n",
            "Terkumpul: 7400 review\n",
            "Terkumpul: 7600 review\n",
            "Terkumpul: 7800 review\n",
            "Terkumpul: 8000 review\n",
            "Terkumpul: 8200 review\n",
            "Terkumpul: 8400 review\n",
            "Terkumpul: 8600 review\n",
            "Terkumpul: 8800 review\n",
            "Terkumpul: 9000 review\n",
            "Terkumpul: 9200 review\n",
            "Terkumpul: 9400 review\n",
            "Terkumpul: 9600 review\n",
            "Terkumpul: 9800 review\n",
            "Terkumpul: 10000 review\n",
            "Terkumpul: 10200 review\n",
            "Terkumpul: 10400 review\n",
            "Terkumpul: 10600 review\n",
            "Terkumpul: 10800 review\n",
            "Terkumpul: 11000 review\n",
            "Terkumpul: 11200 review\n",
            "Terkumpul: 11400 review\n",
            "Terkumpul: 11600 review\n",
            "Terkumpul: 11800 review\n",
            "Terkumpul: 12000 review\n",
            "Terkumpul: 12200 review\n",
            "Terkumpul: 12400 review\n",
            "Terkumpul: 12600 review\n",
            "Terkumpul: 12800 review\n",
            "Terkumpul: 13000 review\n",
            "Terkumpul: 13200 review\n",
            "Terkumpul: 13400 review\n",
            "Terkumpul: 13600 review\n",
            "Terkumpul: 13800 review\n",
            "Terkumpul: 14000 review\n",
            "Terkumpul: 14200 review\n",
            "Terkumpul: 14400 review\n",
            "Terkumpul: 14600 review\n",
            "Terkumpul: 14800 review\n",
            "Terkumpul: 15000 review\n",
            "Terkumpul: 15200 review\n",
            "Terkumpul: 15400 review\n",
            "Terkumpul: 15600 review\n",
            "Terkumpul: 15800 review\n",
            "Terkumpul: 16000 review\n",
            "Terkumpul: 16200 review\n",
            "Terkumpul: 16400 review\n",
            "Terkumpul: 16600 review\n",
            "Terkumpul: 16800 review\n",
            "Terkumpul: 17000 review\n",
            "Terkumpul: 17200 review\n",
            "Terkumpul: 17400 review\n",
            "Terkumpul: 17600 review\n",
            "Terkumpul: 17800 review\n",
            "Terkumpul: 18000 review\n"
          ]
        }
      ],
      "source": [
        "from google_play_scraper import reviews, Sort\n",
        "\n",
        "def get_reviews(app_id='app.bpjs.mobile', lang='id', country='id', target_count=18000):\n",
        "    all_reviews = []\n",
        "    token = None\n",
        "\n",
        "    while len(all_reviews) < target_count:\n",
        "        result, token = reviews(\n",
        "            app_id,\n",
        "            lang=lang,\n",
        "            country=country,\n",
        "            sort=Sort.MOST_RELEVANT,\n",
        "            count=200,\n",
        "            continuation_token=token\n",
        "        )\n",
        "        all_reviews.extend(result)\n",
        "        print(f'Terkumpul: {len(all_reviews)} review')\n",
        "\n",
        "        if token is None:\n",
        "            print(\"Tidak ada data lagi untuk diambil.\")\n",
        "            break\n",
        "\n",
        "    return all_reviews\n",
        "\n",
        "scrapreview = get_reviews()\n"
      ]
    },
    {
      "cell_type": "code",
      "execution_count": 23,
      "metadata": {
        "id": "hcJaiBy2tfxI"
      },
      "outputs": [],
      "source": [
        "with open('ulasan.csv', mode='w', newline='', encoding='utf-8') as file:\n",
        "    writer = csv.writer(file)\n",
        "    writer.writerow(['Review'])\n",
        "    for review in scrapreview:\n",
        "        writer.writerow([review['content']])"
      ]
    },
    {
      "cell_type": "code",
      "execution_count": 24,
      "metadata": {
        "id": "2A-GYwjetfxK",
        "outputId": "185ac457-28a3-4c77-bf39-1555fd761a2c",
        "colab": {
          "base_uri": "https://localhost:8080/"
        }
      },
      "outputs": [
        {
          "output_type": "stream",
          "name": "stdout",
          "text": [
            "Data berhasil disimpan. Jumlah ulasan: 18000\n"
          ]
        }
      ],
      "source": [
        "app_reviews_df = pd.DataFrame(scrapreview)\n",
        "app_reviews_df.to_csv('ulasan.csv', index=False)\n",
        "\n",
        "print(f\"Data berhasil disimpan. Jumlah ulasan: {app_reviews_df.shape[0]}\")"
      ]
    }
  ],
  "metadata": {
    "colab": {
      "provenance": []
    },
    "kernelspec": {
      "display_name": "Python 3",
      "language": "python",
      "name": "python3"
    },
    "language_info": {
      "codemirror_mode": {
        "name": "ipython",
        "version": 3
      },
      "file_extension": ".py",
      "mimetype": "text/x-python",
      "name": "python",
      "nbconvert_exporter": "python",
      "pygments_lexer": "ipython3",
      "version": "3.10.4"
    }
  },
  "nbformat": 4,
  "nbformat_minor": 0
}